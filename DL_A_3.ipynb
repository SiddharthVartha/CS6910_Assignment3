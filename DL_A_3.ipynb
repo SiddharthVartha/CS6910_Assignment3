{
  "cells": [
    {
      "cell_type": "code",
      "execution_count": 1,
      "metadata": {
        "id": "1qnQorOWhwyf"
      },
      "outputs": [],
      "source": [
        "import numpy as np\n",
        "import pandas as pd\n",
        "import random\n",
        "import torch\n",
        "import torch.nn as nn\n",
        "from torch import optim\n",
        "import torch.nn.functional as F\n",
        "from tqdm import tqdm\n",
        "device = torch.device(\"cuda\" if torch.cuda.is_available() else \"cpu\")"
      ]
    },
    {
      "cell_type": "code",
      "execution_count": 2,
      "metadata": {
        "id": "MNknYo2IfkCc"
      },
      "outputs": [],
      "source": [
        "def read_and_split_data(train_file, test_file, val_file):\n",
        "    # Read data\n",
        "    train_data = pd.read_csv(train_file, header=None)\n",
        "    test_data = pd.read_csv(test_file, header=None)\n",
        "    val_data = pd.read_csv(val_file, header=None)\n",
        "\n",
        "    # Split into English and Marathi words\n",
        "    english_train = train_data.iloc[:, 0]\n",
        "    marathi_train = train_data.iloc[:, 1]\n",
        "\n",
        "    english_test = test_data.iloc[:, 0]\n",
        "    marathi_test = test_data.iloc[:, 1]\n",
        "\n",
        "    english_val = val_data.iloc[:, 0]\n",
        "    marathi_val = val_data.iloc[:, 1]\n",
        "\n",
        "    return (english_train, marathi_train, english_test, marathi_test, english_val, marathi_val)\n",
        "\n"
      ]
    },
    {
      "cell_type": "code",
      "execution_count": 3,
      "metadata": {
        "id": "m6z-uILhfJ5h"
      },
      "outputs": [],
      "source": [
        "# File paths\n",
        "lang=\"mar\"\n",
        "train_file = f\"/content/drive/MyDrive/DeepLearning/aksharantar_sampled/{lang}/{lang}_train.csv\"\n",
        "test_file = f\"/content/drive/MyDrive/DeepLearning/aksharantar_sampled/{lang}/{lang}_test.csv\"\n",
        "val_file = f\"/content/drive/MyDrive/DeepLearning/aksharantar_sampled/{lang}/{lang}_valid.csv\"\n",
        "\n",
        "# Call the function\n",
        "english_train, marathi_train, english_test, marathi_test, english_val, marathi_val = read_and_split_data(train_file, test_file, val_file)"
      ]
    },
    {
      "cell_type": "code",
      "execution_count": 4,
      "metadata": {
        "id": "RbF5_Ta7grGl"
      },
      "outputs": [],
      "source": [
        "def create_char_list(words):\n",
        "    char_set = set(char for word in words for char in word)\n",
        "    char_list = sorted(char_set)\n",
        "    max_length_word = max(len(word) for word in words)\n",
        "    return char_list, max_length_word\n",
        "\n",
        "\n",
        "def find_max_length(word_list):\n",
        "    max_length = -1\n",
        "    for word in word_list:\n",
        "        max_length = max(max_length, len(word))\n",
        "    return max_length\n",
        "\n",
        "# Create character lists and find maximum word lengths\n",
        "english_chars, english_max_len = create_char_list(english_train)\n",
        "marathi_chars, marathi_max_len = create_char_list(marathi_train)\n",
        "\n",
        "# Find maximum word lengths from validation and test data\n",
        "english_max_len = max(find_max_length(english_val), find_max_length(english_test), english_max_len)\n",
        "marathi_max_len = max(find_max_length(marathi_val), find_max_length(marathi_test), marathi_max_len)"
      ]
    },
    {
      "cell_type": "code",
      "execution_count": 5,
      "metadata": {
        "id": "FL9AwUVghDu-"
      },
      "outputs": [],
      "source": [
        "def word_to_vector(word, lang):\n",
        "    max_len = -1\n",
        "    if lang == \"english\":\n",
        "        max_len = english_max_len\n",
        "    else:\n",
        "        max_len = marathi_max_len\n",
        "\n",
        "    vector = [0] * (max_len + 2)  # Initialize vector with max length + 2 (for special tokens)\n",
        "    vector[0] = len(english_chars) + 1 if lang == \"english\" else len(marathi_chars) + 1\n",
        "    count=1\n",
        "    if(lang == \"english\"):\n",
        "        for char in word:\n",
        "            for i in range(len(english_chars)):\n",
        "                if(english_chars[i] == char):\n",
        "                    vector[count]=i+1\n",
        "                    count+=1\n",
        "    else :\n",
        "        for char in word:\n",
        "            for i in range(len(marathi_chars)):\n",
        "                if(marathi_chars[i] == char):\n",
        "                    vector[count]=i+1\n",
        "                    count+=1\n",
        "\n",
        "    return vector\n"
      ]
    },
    {
      "cell_type": "code",
      "execution_count": 6,
      "metadata": {
        "colab": {
          "base_uri": "https://localhost:8080/"
        },
        "id": "2xeJ3-BojJXL",
        "outputId": "40ef6a37-adc6-4728-8b3b-b6b7f5cb37af"
      },
      "outputs": [
        {
          "output_type": "stream",
          "name": "stdout",
          "text": [
            "रुद्रांची\n"
          ]
        }
      ],
      "source": [
        "print(marathi_train[13])"
      ]
    },
    {
      "cell_type": "code",
      "execution_count": 7,
      "metadata": {
        "id": "qigC8n59hMVu"
      },
      "outputs": [],
      "source": [
        "vec = word_to_vector(marathi_train[13],\"marathi\")"
      ]
    },
    {
      "cell_type": "code",
      "execution_count": 8,
      "metadata": {
        "colab": {
          "base_uri": "https://localhost:8080/"
        },
        "id": "VaAzzdb-kriV",
        "outputId": "d0f9d81c-5ccc-4c35-dca9-8cadc6879d4e"
      },
      "outputs": [
        {
          "output_type": "execute_result",
          "data": {
            "text/plain": [
              "[64, 42, 54, 33, 63, 42, 51, 2, 21, 53, 0, 0, 0, 0, 0, 0, 0, 0, 0, 0, 0, 0]"
            ]
          },
          "metadata": {},
          "execution_count": 8
        }
      ],
      "source": [
        "vec"
      ]
    },
    {
      "cell_type": "code",
      "execution_count": 9,
      "metadata": {
        "id": "25npFzyMlN9F"
      },
      "outputs": [],
      "source": [
        "# creating matrix of representation\n",
        "def word_matrix(words, language):\n",
        "    matrix = []\n",
        "    for word in words:\n",
        "        matrix.append(word_to_vector(word, language))\n",
        "    return torch.tensor(matrix)"
      ]
    },
    {
      "cell_type": "code",
      "execution_count": 10,
      "metadata": {
        "id": "H_a5L2zIltAN"
      },
      "outputs": [],
      "source": [
        "def prepare_word_matrices(train_data, val_data, test_data, language):\n",
        "    train_matrix = word_matrix(train_data, language)\n",
        "    val_matrix = word_matrix(val_data, language)\n",
        "    test_matrix = word_matrix(test_data, language)\n",
        "    return train_matrix, val_matrix, test_matrix"
      ]
    },
    {
      "cell_type": "code",
      "execution_count": 11,
      "metadata": {
        "id": "8ldk0JNTl24R"
      },
      "outputs": [],
      "source": [
        "english_matrix, english_matrix_val, english_matrix_test = prepare_word_matrices(english_train, english_val, english_test, \"english\")\n",
        "marathi_matrix, marathi_matrix_val, marathi_matrix_test = prepare_word_matrices(marathi_train, marathi_val, marathi_test, \"marathi\")"
      ]
    },
    {
      "cell_type": "code",
      "source": [
        "english_matrix"
      ],
      "metadata": {
        "colab": {
          "base_uri": "https://localhost:8080/"
        },
        "id": "GvnpMTmCU8Q4",
        "outputId": "80ab8a0a-550d-40c7-eda6-fc898d454d95"
      },
      "execution_count": 12,
      "outputs": [
        {
          "output_type": "execute_result",
          "data": {
            "text/plain": [
              "tensor([[27,  6, 21,  ...,  0,  0,  0],\n",
              "        [27,  2,  8,  ...,  0,  0,  0],\n",
              "        [27, 22,  8,  ...,  0,  0,  0],\n",
              "        ...,\n",
              "        [27,  1, 14,  ...,  0,  0,  0],\n",
              "        [27,  7,  8,  ...,  0,  0,  0],\n",
              "        [27,  1, 20,  ...,  0,  0,  0]])"
            ]
          },
          "metadata": {},
          "execution_count": 12
        }
      ]
    },
    {
      "cell_type": "code",
      "source": [],
      "metadata": {
        "id": "O9BKtr6qVS9I"
      },
      "execution_count": null,
      "outputs": []
    }
  ],
  "metadata": {
    "colab": {
      "provenance": [],
      "mount_file_id": "1LgxO2cJI45RCxPsXLWbREo0DatxfZuGr",
      "authorship_tag": "ABX9TyNQAsOPypIZZArmNqs+U83K"
    },
    "kernelspec": {
      "display_name": "Python 3",
      "name": "python3"
    },
    "language_info": {
      "name": "python"
    }
  },
  "nbformat": 4,
  "nbformat_minor": 0
}